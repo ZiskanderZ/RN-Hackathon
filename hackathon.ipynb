{
 "cells": [
  {
   "cell_type": "code",
   "execution_count": 2,
   "metadata": {},
   "outputs": [],
   "source": [
    "import pandas as pd                  \n",
    "import torch\n",
    "import numpy as np\n",
    "import random\n",
    "\n",
    "from sklearn.preprocessing import MinMaxScaler\n",
    "from sklearn.model_selection import train_test_split\n",
    "from sklearn.metrics import mean_absolute_percentage_error as MAPE\n",
    "\n",
    "from torch import nn\n",
    "from torch import optim"
   ]
  },
  {
   "cell_type": "code",
   "execution_count": 3,
   "metadata": {},
   "outputs": [],
   "source": [
    "train_df = pd.read_csv('contest_train_df.csv')\n",
    "test_df = pd.read_csv('contest_test_df.csv')"
   ]
  },
  {
   "cell_type": "code",
   "execution_count": 4,
   "metadata": {},
   "outputs": [],
   "source": [
    "def preprocessing(df):\n",
    "    df = df.sort_values(by=['id', 'Date'])     # сортировка данных  \n",
    "\n",
    "    df['Date'] = pd.to_datetime(df['Date']).apply(lambda x: x.value / 10**9)              # преобразование даты        \n",
    "    df['Start_date'] = pd.to_datetime(df['Start_date']).apply(lambda x: x.value / 10**9)\n",
    "\n",
    "    index = pd.MultiIndex.from_frame(df[['id', 'Well_ID']])    # создание и  применение мультиндекса\n",
    "    df = df.set_index(index) \n",
    "\n",
    "    ids = df['id'].unique()          # массив из уникальных id\n",
    "\n",
    "    df = df.drop(columns=['Formation_lbl', 'Well_ID'])          # удаление ненужных столбцов\n",
    "\n",
    "    main_df = pd.DataFrame()                    # заполнение неизвестных значений (NaN)\n",
    "    for id in ids:\n",
    "        iter_df = df.loc[id]\n",
    "        iter_df = iter_df.fillna(iter_df.median())\n",
    "        iter_df = iter_df.fillna(0)\n",
    "\n",
    "        new_df = pd.DataFrame()\n",
    "        for column in iter_df.columns:\n",
    "            if column == 'Q_OIS':\n",
    "                median = iter_df[:-1][column].median()\n",
    "                new_df['Q_OIS_pred'] = iter_df['Q_OIS'].tail(1).values[0]\n",
    "            else:\n",
    "                median = iter_df[column].median()\n",
    "                if column == 'id':\n",
    "                    median = int(median)\n",
    "\n",
    "            new_df[column] = pd.Series(median)\n",
    "\n",
    "        main_df = main_df.append(new_df)\n",
    "\n",
    "    main_df = main_df.set_index('id')\n",
    "\n",
    "    min_max_scaler = MinMaxScaler()                  # нормализация датафрейма\n",
    "    column_names_to_normalize = ['Dnytr', 'H_din', 'NomMoschn', 'Hperf',\n",
    "        'NomNapor', 'Water_cut', 'NomPodacha', 'Dnkt', 'H_sp', 'P_plst', 'Hvd',\n",
    "        'Extend_Hvd', 'PlNeft', 'VyazkNeft', 'SumTolshin', 'P_zatr', 'PlVody',\n",
    "        'Pnas', 'Inject_0', 'Inject_1', 'Inject_2', 'Inject_3', 'BHP', 'state_age', 'Date', 'Start_date']\n",
    "    x = main_df[column_names_to_normalize].values\n",
    "    x_scaled = min_max_scaler.fit_transform(x)\n",
    "    df_temp = pd.DataFrame(x_scaled, columns=column_names_to_normalize, index = main_df.index)\n",
    "    main_df_normalize = main_df\n",
    "    main_df_normalize[column_names_to_normalize] = df_temp\n",
    "\n",
    "    # main_df_normalize.to_csv('main_df_normalize.csv')   # сохранение датафрейма если необходимо\n",
    "\n",
    "    return main_df_normalize"
   ]
  },
  {
   "cell_type": "code",
   "execution_count": 5,
   "metadata": {},
   "outputs": [],
   "source": [
    "train_df = preprocessing(train_df)\n",
    "test_df = preprocessing(test_df)"
   ]
  },
  {
   "cell_type": "code",
   "execution_count": 2,
   "metadata": {},
   "outputs": [],
   "source": [
    "# train_df = pd.read_csv('main_df_normalize.csv', index_col='id')       \n",
    "# test_df = pd.read_csv('main_df_normalize_test.csv', index_col='id')"
   ]
  },
  {
   "cell_type": "code",
   "execution_count": 6,
   "metadata": {},
   "outputs": [],
   "source": [
    "X = train_df.drop(columns=['Q_OIS_pred'])      # выделение обучающих и предсказываемых данных\n",
    "y = train_df['Q_OIS_pred']\n",
    "\n",
    "# разделение данных\n",
    "X_train, X_test, y_train, y_test = train_test_split(X, y, test_size = 0.1, random_state = 42, shuffle=True)\n",
    "X_train, X_valid, y_train, y_valid = train_test_split(X_train, y_train, test_size = 0.2, random_state = 42, shuffle=True)"
   ]
  },
  {
   "cell_type": "code",
   "execution_count": 7,
   "metadata": {},
   "outputs": [],
   "source": [
    "# класс для нейросети\n",
    "class Regression(nn.Module):         \n",
    "    def __init__(self):\n",
    "        super().__init__()\n",
    "        self.fc1 = nn.Linear(31, 15)\n",
    "        self.fc2 = nn.Linear(15, 7)\n",
    "        self.fc3 = nn.Linear(7, 1)\n",
    "        \n",
    "    def forward(self, x):\n",
    "        x = torch.relu(self.fc1(x))\n",
    "        x = torch.relu(self.fc2(x))\n",
    "        x = torch.relu(self.fc3(x))\n",
    "        \n",
    "        return x\n",
    " "
   ]
  },
  {
   "cell_type": "code",
   "execution_count": 8,
   "metadata": {},
   "outputs": [],
   "source": [
    "# основные параметры нейросети\n",
    "main_mape = 20\n",
    "current_epochs = 0\n",
    "model = Regression().double()\n",
    "criterion = nn.HuberLoss()\n",
    "optimizer = optim.Adam(model.parameters(), lr=0.003)"
   ]
  },
  {
   "cell_type": "code",
   "execution_count": 9,
   "metadata": {},
   "outputs": [],
   "source": [
    "# функция проверки модели\n",
    "def check(X_1, y_1, main_mape, test_flag=False):\n",
    "    model.eval()\n",
    "    lst = []\n",
    "    with torch.no_grad():\n",
    "        for i in range(len(X_1)):\n",
    "            j = torch.tensor(X_1.iloc[i])\n",
    "                    \n",
    "            Q = model.forward(j)\n",
    "            lst.append(pd.Series(Q)[0])\n",
    "\n",
    "    y_pred_valid = pd.Series(lst)\n",
    "\n",
    "    predict_frame = pd.DataFrame(y_1)\n",
    "    predict_frame['Q_OIS_predict'] = round(y_pred_valid).values\n",
    "    predict_frame = predict_frame.rename(columns={'Q_OIS_pred' : 'Q_OIS_true'})\n",
    "\n",
    "    y_valid_series = predict_frame['Q_OIS_true']\n",
    "    y_pred_valid = predict_frame['Q_OIS_predict']\n",
    "    \n",
    "    mape = MAPE(y_valid_series, y_pred_valid) * 100\n",
    "    print(f'MAPE = {mape}, Epoch: {current_epochs}')\n",
    "\n",
    "    if test_flag:\n",
    "        if mape < main_mape:\n",
    "            main_mape = mape\n",
    "            print('Saving model')\n",
    "            torch.save(model.state_dict(), 'checkpoint_date.pth')\n",
    "            final_frame = predict_frame\n",
    "            return final_frame, main_mape\n",
    "    model.train()"
   ]
  },
  {
   "cell_type": "code",
   "execution_count": 10,
   "metadata": {},
   "outputs": [
    {
     "name": "stdout",
     "output_type": "stream",
     "text": [
      "MAPE = 28.511889820778908, Epoch: 1\n",
      "MAPE = 26.213318138870566, Epoch: 2\n",
      "MAPE = 23.52020961112681, Epoch: 3\n",
      "MAPE = 22.329663151251943, Epoch: 4\n",
      "MAPE = 22.09109093528813, Epoch: 5\n",
      "MAPE = 21.35484215982992, Epoch: 6\n",
      "MAPE = 21.346517549868537, Epoch: 7\n",
      "MAPE = 21.204866097444057, Epoch: 8\n",
      "MAPE = 21.00508078004866, Epoch: 9\n",
      "MAPE = 21.048153700028237, Epoch: 10\n",
      "MAPE = 20.817697017124438, Epoch: 11\n",
      "MAPE = 21.117350488006846, Epoch: 12\n",
      "MAPE = 21.089242766915493, Epoch: 13\n",
      "MAPE = 20.864051308535192, Epoch: 14\n",
      "MAPE = 20.539290611899695, Epoch: 15\n",
      "MAPE = 19.37055386141652, Epoch: 15\n",
      "Saving model\n",
      "\n",
      "Final MAPE = 19.37055386141652\n",
      "Final Frame\n",
      "       Q_OIS_true  Q_OIS_predict\n",
      "id                              \n",
      "46473        36.0           30.0\n",
      "39186       641.0          523.0\n",
      "38311       162.0          174.0\n",
      "49577        23.0           39.0\n",
      "349         154.0          152.0\n",
      "...           ...            ...\n",
      "32426       100.0           83.0\n",
      "16108       209.0          210.0\n",
      "13508       275.0          226.0\n",
      "15         1144.0         1386.0\n",
      "17982        84.0           77.0\n",
      "\n",
      "[1563 rows x 2 columns]\n"
     ]
    }
   ],
   "source": [
    "# обучение модели\n",
    "epochs = 15\n",
    "for epoch in range(epochs):\n",
    "    for i in range(len(X_train)):\n",
    "        j = torch.tensor(X_train.iloc[i])\n",
    "        \n",
    "        optimizer.zero_grad()\n",
    "                \n",
    "        Q = model.forward(j)\n",
    "        loss = criterion(Q,  torch.tensor(y_train.iloc[i]).view(1))\n",
    "        loss.backward()\n",
    "        optimizer.step()\n",
    "    \n",
    "    current_epochs += 1\n",
    "    check(X_valid, y_valid, main_mape)\n",
    "\n",
    "final_frame, main_mape = check(X_test, y_test, main_mape, True)\n",
    "print(f'\\nFinal MAPE = {main_mape}')\n",
    "print('Final Frame')\n",
    "print(final_frame) "
   ]
  },
  {
   "cell_type": "code",
   "execution_count": 21,
   "metadata": {},
   "outputs": [
    {
     "name": "stdout",
     "output_type": "stream",
     "text": [
      "         id  Q_OIS\n",
      "0         6  276.0\n",
      "1         8  644.0\n",
      "2        22   71.0\n",
      "3        23   64.0\n",
      "4        24   94.0\n",
      "...     ...    ...\n",
      "3890  59941   25.0\n",
      "3891  59947   37.0\n",
      "3892  59952   17.0\n",
      "3893  60052   50.0\n",
      "3894  60111   15.0\n",
      "\n",
      "[3895 rows x 2 columns]\n"
     ]
    },
    {
     "data": {
      "text/plain": [
       "Regression(\n",
       "  (fc1): Linear(in_features=31, out_features=15, bias=True)\n",
       "  (fc2): Linear(in_features=15, out_features=7, bias=True)\n",
       "  (fc3): Linear(in_features=7, out_features=1, bias=True)\n",
       ")"
      ]
     },
     "execution_count": 21,
     "metadata": {},
     "output_type": "execute_result"
    }
   ],
   "source": [
    "model.eval()\n",
    "final_test_df = test_df.drop(columns=['Q_OIS_pred'])  \n",
    "lst = []\n",
    "with torch.no_grad():\n",
    "    for i in range(len(final_test_df)):\n",
    "        j = torch.tensor(final_test_df.iloc[i])\n",
    "                \n",
    "        Q = model.forward(j)\n",
    "        lst.append(pd.Series(Q)[0])\n",
    "\n",
    "y_pred_valid = pd.Series(lst)\n",
    "predict_frame = pd.DataFrame(final_test_df.index)\n",
    "predict_frame['Q_OIS'] = round(y_pred_valid).values\n",
    "\n",
    "print(predict_frame)\n",
    "model.train()"
   ]
  },
  {
   "cell_type": "code",
   "execution_count": 22,
   "metadata": {},
   "outputs": [],
   "source": [
    "predict_frame.to_csv('final_submission.csv', index=False)"
   ]
  }
 ],
 "metadata": {
  "interpreter": {
   "hash": "e5f54ad62898c58e517c09e0fe8a9681f88a0fa3e505437209c9d7f3c72cc95c"
  },
  "kernelspec": {
   "display_name": "Python 3.9.1 64-bit (system)",
   "language": "python",
   "name": "python3"
  },
  "language_info": {
   "codemirror_mode": {
    "name": "ipython",
    "version": 3
   },
   "file_extension": ".py",
   "mimetype": "text/x-python",
   "name": "python",
   "nbconvert_exporter": "python",
   "pygments_lexer": "ipython3",
   "version": "3.9.1"
  },
  "orig_nbformat": 4
 },
 "nbformat": 4,
 "nbformat_minor": 2
}
